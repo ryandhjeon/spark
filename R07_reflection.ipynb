{
 "cells": [
  {
   "cell_type": "code",
   "execution_count": 249,
   "id": "elect-wednesday",
   "metadata": {},
   "outputs": [],
   "source": [
    "import findspark\n",
    "findspark.init()\n",
    "import pyspark\n",
    "from pyspark.sql import SparkSession\n",
    "from pyspark.sql.functions import *\n",
    "from pyspark.sql.types import *\n",
    "import hashlib"
   ]
  },
  {
   "cell_type": "code",
   "execution_count": 2,
   "id": "clear-parts",
   "metadata": {},
   "outputs": [],
   "source": [
    "spark = SparkSession \\\n",
    "    .builder \\\n",
    "    .appName('Spark++ Application') \\\n",
    "    .getOrCreate()"
   ]
  },
  {
   "cell_type": "markdown",
   "id": "lesser-corporation",
   "metadata": {},
   "source": [
    "## Load datasets"
   ]
  },
  {
   "cell_type": "code",
   "execution_count": 49,
   "id": "wired-corruption",
   "metadata": {},
   "outputs": [],
   "source": [
    "df_products = spark.read.parquet('hdfs:///R07/products_parquet/')\n",
    "df_sellers = spark.read.parquet('hdfs:///R07/sellers_parquet/')\n",
    "df_sales = spark.read.parquet('hdfs:///R07/sales_parquet/')"
   ]
  },
  {
   "cell_type": "code",
   "execution_count": 50,
   "id": "sunrise-privacy",
   "metadata": {},
   "outputs": [],
   "source": [
    "datasets = [df_products, df_sellers, df_sales]"
   ]
  },
  {
   "cell_type": "code",
   "execution_count": 51,
   "id": "tamil-sessions",
   "metadata": {
    "tags": []
   },
   "outputs": [
    {
     "name": "stdout",
     "output_type": "stream",
     "text": [
      "root\n",
      " |-- product_id: string (nullable = true)\n",
      " |-- product_name: string (nullable = true)\n",
      " |-- price: string (nullable = true)\n",
      "\n",
      "+----------+------------+-----+\n",
      "|product_id|product_name|price|\n",
      "+----------+------------+-----+\n",
      "|         0|   product_0|   22|\n",
      "|         1|   product_1|   30|\n",
      "|         2|   product_2|   91|\n",
      "+----------+------------+-----+\n",
      "only showing top 3 rows\n",
      "\n",
      "root\n",
      " |-- seller_id: string (nullable = true)\n",
      " |-- seller_name: string (nullable = true)\n",
      " |-- daily_target: string (nullable = true)\n",
      "\n",
      "+---------+-----------+------------+\n",
      "|seller_id|seller_name|daily_target|\n",
      "+---------+-----------+------------+\n",
      "|        0|   seller_0|     2500000|\n",
      "|        1|   seller_1|      257237|\n",
      "|        2|   seller_2|      754188|\n",
      "+---------+-----------+------------+\n",
      "only showing top 3 rows\n",
      "\n",
      "root\n",
      " |-- order_id: string (nullable = true)\n",
      " |-- product_id: string (nullable = true)\n",
      " |-- seller_id: string (nullable = true)\n",
      " |-- date: string (nullable = true)\n",
      " |-- num_pieces_sold: string (nullable = true)\n",
      " |-- bill_raw_text: string (nullable = true)\n",
      "\n",
      "+--------+----------+---------+----------+---------------+--------------------+\n",
      "|order_id|product_id|seller_id|      date|num_pieces_sold|       bill_raw_text|\n",
      "+--------+----------+---------+----------+---------------+--------------------+\n",
      "|       1|         0|        0|2020-07-10|             26|kyeibuumwlyhuwksx...|\n",
      "|       2|         0|        0|2020-07-08|             13|jfyuoyfkeyqkckwbu...|\n",
      "|       3|         0|        0|2020-07-05|             38|uyjihlzhzcswxcccx...|\n",
      "+--------+----------+---------+----------+---------------+--------------------+\n",
      "only showing top 3 rows\n",
      "\n"
     ]
    }
   ],
   "source": [
    "for dataset in datasets:\n",
    "    dataset.printSchema()\n",
    "    dataset.show(3)"
   ]
  },
  {
   "cell_type": "markdown",
   "id": "express-playback",
   "metadata": {},
   "source": [
    "## How many distinct products are sold each day?"
   ]
  },
  {
   "cell_type": "code",
   "execution_count": 52,
   "id": "specialized-holiday",
   "metadata": {},
   "outputs": [],
   "source": [
    "distinct_products = df_sales.groupby(col(\"date\")).agg(countDistinct(col(\"product_id\")).alias(\"distinct_products_sold\")).orderBy(col(\"distinct_products_sold\").desc())"
   ]
  },
  {
   "cell_type": "code",
   "execution_count": 53,
   "id": "large-country",
   "metadata": {},
   "outputs": [
    {
     "name": "stdout",
     "output_type": "stream",
     "text": [
      "root\n",
      " |-- date: string (nullable = true)\n",
      " |-- distinct_products_sold: long (nullable = false)\n",
      "\n",
      "+----------+----------------------+\n",
      "|      date|distinct_products_sold|\n",
      "+----------+----------------------+\n",
      "|2020-07-06|                100765|\n",
      "|2020-07-09|                100501|\n",
      "|2020-07-01|                100337|\n",
      "|2020-07-03|                100017|\n",
      "|2020-07-02|                 99807|\n",
      "|2020-07-05|                 99796|\n",
      "|2020-07-04|                 99791|\n",
      "|2020-07-07|                 99756|\n",
      "|2020-07-08|                 99662|\n",
      "|2020-07-10|                 98973|\n",
      "+----------+----------------------+\n",
      "\n"
     ]
    }
   ],
   "source": [
    "distinct_products.printSchema()\n",
    "distinct_products.show()"
   ]
  },
  {
   "cell_type": "markdown",
   "id": "curious-coordinator",
   "metadata": {},
   "source": [
    "## What is the average revenue of the orders?"
   ]
  },
  {
   "cell_type": "markdown",
   "id": "practical-yemen",
   "metadata": {},
   "source": [
    "__Join `products` and `sales` column with `product id`__"
   ]
  },
  {
   "cell_type": "code",
   "execution_count": 74,
   "id": "protecting-brazil",
   "metadata": {},
   "outputs": [],
   "source": [
    "joinExpression = df_products[\"product_id\"] == df_sales['product_id']\n",
    "product_id_products_sales = df_sales.join(df_products, joinExpression).drop(df_products['product_id'])"
   ]
  },
  {
   "cell_type": "code",
   "execution_count": 100,
   "id": "regulated-georgia",
   "metadata": {},
   "outputs": [
    {
     "name": "stdout",
     "output_type": "stream",
     "text": [
      "root\n",
      " |-- order_id: string (nullable = true)\n",
      " |-- product_id: string (nullable = true)\n",
      " |-- seller_id: string (nullable = true)\n",
      " |-- date: string (nullable = true)\n",
      " |-- num_pieces_sold: string (nullable = true)\n",
      " |-- bill_raw_text: string (nullable = true)\n",
      " |-- product_name: string (nullable = true)\n",
      " |-- price: string (nullable = true)\n",
      "\n",
      "+--------+----------+---------+----------+---------------+--------------------+----------------+-----+\n",
      "|order_id|product_id|seller_id|      date|num_pieces_sold|       bill_raw_text|    product_name|price|\n",
      "+--------+----------+---------+----------+---------------+--------------------+----------------+-----+\n",
      "|12478308|  10005243|        6|2020-07-04|             98|qfvpgiscflyjxphcq...|product_10005243|   44|\n",
      "| 8996776|  10023464|        9|2020-07-03|             59|jjbyqkzcimBfoehbv...|product_10023464|   19|\n",
      "|10476976|  10050363|        6|2020-07-03|             18|xqhlvkpxtzrfdadry...|product_10050363|   98|\n",
      "| 5977582|  10089524|        2|2020-07-01|             53|jchvhzbeaicqitpvx...|product_10089524|  100|\n",
      "| 1482892|  10122266|        2|2020-07-07|             25|kezhpglnqigaqwrss...|product_10122266|   89|\n",
      "| 2987749|  10134574|        3|2020-07-03|             28|bmtlxvobfmerqlckf...|product_10134574|  138|\n",
      "|15982399|  10150439|        4|2020-07-01|             72|rvgiffufcxceotpdn...|product_10150439|   71|\n",
      "|12494868|  10158822|        9|2020-07-09|             86|pzrsootkmszwuzpsi...|product_10158822|   35|\n",
      "|18485793|  10160884|        7|2020-07-01|             89|goZelczdeypjghxta...|product_10160884|   52|\n",
      "| 2499725|  10172594|        2|2020-07-03|             60|gndkqyfadrbiaasna...|product_10172594|   81|\n",
      "| 2491769|  10175294|        7|2020-07-09|             29|owrjfdkvctlnpgwcn...|product_10175294|  112|\n",
      "| 7996888|   1017716|        9|2020-07-08|             82|khdtupfmrdgaayizq...| product_1017716|   66|\n",
      "|17998848|  10200802|        2|2020-07-04|             42|nwtragsmtdzwuddxb...|product_10200802|   41|\n",
      "|10978787|  10215353|        1|2020-07-06|             22|qaihdzblvkhjcnqzz...|product_10215353|   56|\n",
      "|10985061|  10218345|        4|2020-07-10|             98|ypwtputatDvrxntll...|product_10218345|  141|\n",
      "|10484807|  10220977|        5|2020-07-10|             76|hfytxferykvmdaope...|product_10220977|  132|\n",
      "| 6990855|  10255853|        7|2020-07-03|             26|nychcgnenspynymic...|product_10255853|  120|\n",
      "|16495205|  10288525|        6|2020-07-06|             63|fynucihpbitrmbcqg...|product_10288525|  132|\n",
      "| 1985267|  10304712|        9|2020-07-05|             48|pjlfowgkhrncuboha...|product_10304712|   24|\n",
      "|10988195|  10324080|        6|2020-07-04|              5|ypdylfnxjvaphduiy...|product_10324080|  130|\n",
      "+--------+----------+---------+----------+---------------+--------------------+----------------+-----+\n",
      "only showing top 20 rows\n",
      "\n"
     ]
    }
   ],
   "source": [
    "product_id_products_sales.printSchema()\n",
    "product_id_products_sales.show()"
   ]
  },
  {
   "cell_type": "markdown",
   "id": "selective-adoption",
   "metadata": {},
   "source": [
    "__Multiply `num pieces sold` with `price` for the revenue__"
   ]
  },
  {
   "cell_type": "code",
   "execution_count": 58,
   "id": "unavailable-crystal",
   "metadata": {},
   "outputs": [],
   "source": [
    "df_revenue = joined_products_sales.withColumn('revenue', joined_products_sales['price'] * joined_products_sales['num_pieces_sold'])"
   ]
  },
  {
   "cell_type": "code",
   "execution_count": 59,
   "id": "horizontal-romantic",
   "metadata": {},
   "outputs": [
    {
     "name": "stdout",
     "output_type": "stream",
     "text": [
      "root\n",
      " |-- order_id: string (nullable = true)\n",
      " |-- product_id: string (nullable = true)\n",
      " |-- seller_id: string (nullable = true)\n",
      " |-- date: string (nullable = true)\n",
      " |-- num_pieces_sold: string (nullable = true)\n",
      " |-- bill_raw_text: string (nullable = true)\n",
      " |-- product_name: string (nullable = true)\n",
      " |-- price: string (nullable = true)\n",
      " |-- revenue: double (nullable = true)\n",
      "\n",
      "+--------+----------+---------+----------+---------------+--------------------+----------------+-----+-------+\n",
      "|order_id|product_id|seller_id|      date|num_pieces_sold|       bill_raw_text|    product_name|price|revenue|\n",
      "+--------+----------+---------+----------+---------------+--------------------+----------------+-----+-------+\n",
      "|12478308|  10005243|        6|2020-07-04|             98|qfvpgiscflyjxphcq...|product_10005243|   44| 4312.0|\n",
      "| 8996776|  10023464|        9|2020-07-03|             59|jjbyqkzcimBfoehbv...|product_10023464|   19| 1121.0|\n",
      "|10476976|  10050363|        6|2020-07-03|             18|xqhlvkpxtzrfdadry...|product_10050363|   98| 1764.0|\n",
      "| 5977582|  10089524|        2|2020-07-01|             53|jchvhzbeaicqitpvx...|product_10089524|  100| 5300.0|\n",
      "| 1482892|  10122266|        2|2020-07-07|             25|kezhpglnqigaqwrss...|product_10122266|   89| 2225.0|\n",
      "+--------+----------+---------+----------+---------------+--------------------+----------------+-----+-------+\n",
      "only showing top 5 rows\n",
      "\n"
     ]
    }
   ],
   "source": [
    "df_revenue.printSchema()\n",
    "df_revenue.show(5)"
   ]
  },
  {
   "cell_type": "markdown",
   "id": "collectible-occurrence",
   "metadata": {},
   "source": [
    "__Find the average value of the orders__"
   ]
  },
  {
   "cell_type": "code",
   "execution_count": 65,
   "id": "greater-scoop",
   "metadata": {},
   "outputs": [],
   "source": [
    "avg_revenue = df_revenue.groupBy().mean('revenue')"
   ]
  },
  {
   "cell_type": "code",
   "execution_count": 66,
   "id": "early-concern",
   "metadata": {},
   "outputs": [
    {
     "name": "stdout",
     "output_type": "stream",
     "text": [
      "root\n",
      " |-- avg(revenue): double (nullable = true)\n",
      "\n",
      "+------------------+\n",
      "|      avg(revenue)|\n",
      "+------------------+\n",
      "|1246.1338560822878|\n",
      "+------------------+\n",
      "\n"
     ]
    }
   ],
   "source": [
    "avg_revenue.printSchema()\n",
    "avg_revenue.show()"
   ]
  },
  {
   "cell_type": "markdown",
   "id": "mediterranean-nudist",
   "metadata": {},
   "source": [
    "__Average revenue of the orders: $1246.13__"
   ]
  },
  {
   "cell_type": "markdown",
   "id": "documented-night",
   "metadata": {},
   "source": [
    "## What is the average daily revenue of each product?"
   ]
  },
  {
   "cell_type": "markdown",
   "id": "healthy-worthy",
   "metadata": {},
   "source": [
    "__Get `revenue` per `product id`__"
   ]
  },
  {
   "cell_type": "code",
   "execution_count": 67,
   "id": "canadian-reduction",
   "metadata": {},
   "outputs": [],
   "source": [
    "product_revenue = df_revenue.groupBy('date', 'product_id').agg((sum('revenue')).alias('product_revenue')).orderBy(col('date').asc())"
   ]
  },
  {
   "cell_type": "code",
   "execution_count": 68,
   "id": "completed-senegal",
   "metadata": {},
   "outputs": [
    {
     "name": "stdout",
     "output_type": "stream",
     "text": [
      "root\n",
      " |-- date: string (nullable = true)\n",
      " |-- product_id: string (nullable = true)\n",
      " |-- product_revenue: double (nullable = true)\n",
      "\n",
      "+----------+----------+---------------+\n",
      "|      date|product_id|product_revenue|\n",
      "+----------+----------+---------------+\n",
      "|2020-07-01|  11641075|         2010.0|\n",
      "|2020-07-01|  12852991|         4224.0|\n",
      "|2020-07-01|  11666191|         1800.0|\n",
      "|2020-07-01|  10226294|        11440.0|\n",
      "|2020-07-01|  11696381|         3230.0|\n",
      "|2020-07-01|   1040523|          884.0|\n",
      "|2020-07-01|  12122064|         4180.0|\n",
      "|2020-07-01|  10862581|         1485.0|\n",
      "|2020-07-01|  12300725|          495.0|\n",
      "|2020-07-01|   1101513|         9956.0|\n",
      "|2020-07-01|  12306462|         9984.0|\n",
      "|2020-07-01|  11099735|         2790.0|\n",
      "|2020-07-01|  12367671|          240.0|\n",
      "|2020-07-01|  11365713|         3572.0|\n",
      "|2020-07-01|  12519264|         7830.0|\n",
      "|2020-07-01|  10374427|        12615.0|\n",
      "|2020-07-01|  12570494|          946.0|\n",
      "|2020-07-01|  10964827|          737.0|\n",
      "|2020-07-01|  12741537|         1092.0|\n",
      "|2020-07-01|   1110755|          119.0|\n",
      "+----------+----------+---------------+\n",
      "only showing top 20 rows\n",
      "\n"
     ]
    }
   ],
   "source": [
    "product_revenue.printSchema()\n",
    "product_revenue.show()"
   ]
  },
  {
   "cell_type": "markdown",
   "id": "magnetic-female",
   "metadata": {},
   "source": [
    "__Find average revenue by date__"
   ]
  },
  {
   "cell_type": "code",
   "execution_count": 79,
   "id": "weighted-seventh",
   "metadata": {},
   "outputs": [],
   "source": [
    "avg_daily_revenue_per_product = product_revenue.groupBy('date', 'product_id').agg({'product_revenue':'mean'}).orderBy(col('date').asc())"
   ]
  },
  {
   "cell_type": "code",
   "execution_count": 80,
   "id": "needed-dialogue",
   "metadata": {},
   "outputs": [
    {
     "name": "stdout",
     "output_type": "stream",
     "text": [
      "root\n",
      " |-- date: string (nullable = true)\n",
      " |-- product_id: string (nullable = true)\n",
      " |-- avg(product_revenue): double (nullable = true)\n",
      "\n",
      "+----------+----------+--------------------+\n",
      "|      date|product_id|avg(product_revenue)|\n",
      "+----------+----------+--------------------+\n",
      "|2020-07-01|  10089524|              5300.0|\n",
      "|2020-07-01|  10150439|              5112.0|\n",
      "|2020-07-01|  10160884|              4628.0|\n",
      "|2020-07-01|  10749424|                63.0|\n",
      "|2020-07-01|  10867431|              9702.0|\n",
      "|2020-07-01|  11023830|                64.0|\n",
      "|2020-07-01|   1111881|             11997.0|\n",
      "|2020-07-01|  11228690|               588.0|\n",
      "|2020-07-01|  11304131|              4026.0|\n",
      "|2020-07-01|  11768624|               221.0|\n",
      "|2020-07-01|  11790842|              7866.0|\n",
      "|2020-07-01|  11872001|              6555.0|\n",
      "|2020-07-01|  11885051|              5723.0|\n",
      "|2020-07-01|  11923737|               651.0|\n",
      "|2020-07-01|  12061585|              8888.0|\n",
      "|2020-07-01|  12105556|              2178.0|\n",
      "|2020-07-01|  12161004|               819.0|\n",
      "|2020-07-01|  12201394|              8505.0|\n",
      "|2020-07-01|  12446289|              5723.0|\n",
      "|2020-07-01|   1263762|              3132.0|\n",
      "+----------+----------+--------------------+\n",
      "only showing top 20 rows\n",
      "\n"
     ]
    }
   ],
   "source": [
    "avg_daily_revenue_per_product.printSchema()\n",
    "avg_daily_revenue_per_product.show()"
   ]
  },
  {
   "cell_type": "markdown",
   "id": "contrary-birmingham",
   "metadata": {},
   "source": [
    "## For each seller, what is the average % contribution of an order to the sellers daily quota?"
   ]
  },
  {
   "cell_type": "markdown",
   "id": "unknown-worse",
   "metadata": {},
   "source": [
    "__Join `Revenue dataframe` and `Sellers dataframe` with `Seller id`__"
   ]
  },
  {
   "cell_type": "code",
   "execution_count": 72,
   "id": "forbidden-demand",
   "metadata": {},
   "outputs": [],
   "source": [
    "joinExpression = df_revenue['seller_id'] == df_sellers['seller_id']\n",
    "seller_id_revenue_seller = df_revenue.join(df_sellers, joinExpression).drop(df_sellers['seller_id'])"
   ]
  },
  {
   "cell_type": "code",
   "execution_count": 73,
   "id": "absent-hardwood",
   "metadata": {},
   "outputs": [
    {
     "name": "stdout",
     "output_type": "stream",
     "text": [
      "root\n",
      " |-- order_id: string (nullable = true)\n",
      " |-- product_id: string (nullable = true)\n",
      " |-- seller_id: string (nullable = true)\n",
      " |-- date: string (nullable = true)\n",
      " |-- num_pieces_sold: string (nullable = true)\n",
      " |-- bill_raw_text: string (nullable = true)\n",
      " |-- product_name: string (nullable = true)\n",
      " |-- price: string (nullable = true)\n",
      " |-- revenue: double (nullable = true)\n",
      " |-- seller_name: string (nullable = true)\n",
      " |-- daily_target: string (nullable = true)\n",
      "\n",
      "+--------+----------+---------+----------+---------------+--------------------+----------------+-----+-------+-----------+------------+\n",
      "|order_id|product_id|seller_id|      date|num_pieces_sold|       bill_raw_text|    product_name|price|revenue|seller_name|daily_target|\n",
      "+--------+----------+---------+----------+---------------+--------------------+----------------+-----+-------+-----------+------------+\n",
      "|12478308|  10005243|        6|2020-07-04|             98|qfvpgiscflyjxphcq...|product_10005243|   44| 4312.0|   seller_6|     1055915|\n",
      "| 8996776|  10023464|        9|2020-07-03|             59|jjbyqkzcimBfoehbv...|product_10023464|   19| 1121.0|   seller_9|     1318051|\n",
      "|10476976|  10050363|        6|2020-07-03|             18|xqhlvkpxtzrfdadry...|product_10050363|   98| 1764.0|   seller_6|     1055915|\n",
      "| 5977582|  10089524|        2|2020-07-01|             53|jchvhzbeaicqitpvx...|product_10089524|  100| 5300.0|   seller_2|      754188|\n",
      "| 1482892|  10122266|        2|2020-07-07|             25|kezhpglnqigaqwrss...|product_10122266|   89| 2225.0|   seller_2|      754188|\n",
      "| 2987749|  10134574|        3|2020-07-03|             28|bmtlxvobfmerqlckf...|product_10134574|  138| 3864.0|   seller_3|      310462|\n",
      "|15982399|  10150439|        4|2020-07-01|             72|rvgiffufcxceotpdn...|product_10150439|   71| 5112.0|   seller_4|     1532808|\n",
      "|12494868|  10158822|        9|2020-07-09|             86|pzrsootkmszwuzpsi...|product_10158822|   35| 3010.0|   seller_9|     1318051|\n",
      "|18485793|  10160884|        7|2020-07-01|             89|goZelczdeypjghxta...|product_10160884|   52| 4628.0|   seller_7|     1946998|\n",
      "| 2499725|  10172594|        2|2020-07-03|             60|gndkqyfadrbiaasna...|product_10172594|   81| 4860.0|   seller_2|      754188|\n",
      "| 2491769|  10175294|        7|2020-07-09|             29|owrjfdkvctlnpgwcn...|product_10175294|  112| 3248.0|   seller_7|     1946998|\n",
      "| 7996888|   1017716|        9|2020-07-08|             82|khdtupfmrdgaayizq...| product_1017716|   66| 5412.0|   seller_9|     1318051|\n",
      "|17998848|  10200802|        2|2020-07-04|             42|nwtragsmtdzwuddxb...|product_10200802|   41| 1722.0|   seller_2|      754188|\n",
      "|10978787|  10215353|        1|2020-07-06|             22|qaihdzblvkhjcnqzz...|product_10215353|   56| 1232.0|   seller_1|      257237|\n",
      "|10985061|  10218345|        4|2020-07-10|             98|ypwtputatDvrxntll...|product_10218345|  141|13818.0|   seller_4|     1532808|\n",
      "|10484807|  10220977|        5|2020-07-10|             76|hfytxferykvmdaope...|product_10220977|  132|10032.0|   seller_5|     1199693|\n",
      "| 6990855|  10255853|        7|2020-07-03|             26|nychcgnenspynymic...|product_10255853|  120| 3120.0|   seller_7|     1946998|\n",
      "|16495205|  10288525|        6|2020-07-06|             63|fynucihpbitrmbcqg...|product_10288525|  132| 8316.0|   seller_6|     1055915|\n",
      "| 1985267|  10304712|        9|2020-07-05|             48|pjlfowgkhrncuboha...|product_10304712|   24| 1152.0|   seller_9|     1318051|\n",
      "|10988195|  10324080|        6|2020-07-04|              5|ypdylfnxjvaphduiy...|product_10324080|  130|  650.0|   seller_6|     1055915|\n",
      "+--------+----------+---------+----------+---------------+--------------------+----------------+-----+-------+-----------+------------+\n",
      "only showing top 20 rows\n",
      "\n"
     ]
    }
   ],
   "source": [
    "seller_id_revenue_seller.printSchema()\n",
    "seller_id_revenue_seller.show()"
   ]
  },
  {
   "cell_type": "markdown",
   "id": "precise-stanley",
   "metadata": {},
   "source": [
    "__Get order quota by getting average of the orders, and the `daily target` for each seller__ "
   ]
  },
  {
   "cell_type": "code",
   "execution_count": 77,
   "id": "reserved-strand",
   "metadata": {},
   "outputs": [],
   "source": [
    "order_quota_per_seller = seller_id_revenue_seller.groupBy('seller_id').agg(mean('revenue').alias('avg_order'), max('daily_target').alias('daily_target')).orderBy(col('seller_id').asc())"
   ]
  },
  {
   "cell_type": "code",
   "execution_count": 78,
   "id": "recognized-firmware",
   "metadata": {},
   "outputs": [
    {
     "name": "stdout",
     "output_type": "stream",
     "text": [
      "root\n",
      " |-- seller_id: string (nullable = true)\n",
      " |-- avg_order: double (nullable = true)\n",
      " |-- daily_target: string (nullable = true)\n",
      "\n",
      "+---------+------------------+------------+\n",
      "|seller_id|         avg_order|daily_target|\n",
      "+---------+------------------+------------+\n",
      "|        0|1110.9372444210526|     2500000|\n",
      "|        1|3818.4719823112678|      257237|\n",
      "|        2| 3819.833871243246|      754188|\n",
      "|        3| 3824.481469172176|      310462|\n",
      "|        4|3807.6749784110534|     1532808|\n",
      "|        5|3803.7337879033857|     1199693|\n",
      "|        6|3811.2040280996785|     1055915|\n",
      "|        7| 3816.358735590778|     1946998|\n",
      "|        8|3801.7181057340235|      547320|\n",
      "|        9| 3829.333327348463|     1318051|\n",
      "+---------+------------------+------------+\n",
      "\n"
     ]
    }
   ],
   "source": [
    "order_quota_per_seller.printSchema()\n",
    "order_quota_per_seller.show()"
   ]
  },
  {
   "cell_type": "markdown",
   "id": "hundred-british",
   "metadata": {},
   "source": [
    "__Calculate the average contribution percentage by dividing `Average order` by `daily target`__"
   ]
  },
  {
   "cell_type": "code",
   "execution_count": 86,
   "id": "eight-arctic",
   "metadata": {},
   "outputs": [],
   "source": [
    "seller_avg_contribution_pct = df_orders.withColumn('avg_contribution_pct', df_orders['avg_order']/df_orders['daily_target']*100)"
   ]
  },
  {
   "cell_type": "code",
   "execution_count": 87,
   "id": "emerging-particle",
   "metadata": {},
   "outputs": [
    {
     "name": "stdout",
     "output_type": "stream",
     "text": [
      "root\n",
      " |-- seller_id: string (nullable = true)\n",
      " |-- avg_order: double (nullable = true)\n",
      " |-- daily_target: string (nullable = true)\n",
      " |-- avg_contribution_pct: double (nullable = true)\n",
      "\n",
      "+---------+------------------+------------+--------------------+\n",
      "|seller_id|         avg_order|daily_target|avg_contribution_pct|\n",
      "+---------+------------------+------------+--------------------+\n",
      "|        0|1110.9372444210526|     2500000| 0.04443748977684211|\n",
      "|        1|3818.4719823112678|      257237|  1.4844178645806272|\n",
      "|        2| 3819.833871243246|      754188|  0.5064829818617169|\n",
      "|        3| 3824.481469172176|      310462|  1.2318678193054788|\n",
      "|        4|3807.6749784110534|     1532808| 0.24841173704802255|\n",
      "|        5|3803.7337879033857|     1199693| 0.31705892990151524|\n",
      "|        6|3811.2040280996785|     1055915|  0.3609385251748179|\n",
      "|        7| 3816.358735590778|     1946998| 0.19601246306317613|\n",
      "|        8|3801.7181057340235|      547320|  0.6946060998563954|\n",
      "|        9| 3829.333327348463|     1318051|  0.2905299815673645|\n",
      "+---------+------------------+------------+--------------------+\n",
      "\n"
     ]
    }
   ],
   "source": [
    "seller_avg_contribution_pct.printSchema()\n",
    "seller_avg_contribution_pct.show()"
   ]
  },
  {
   "cell_type": "code",
   "execution_count": 96,
   "id": "disabled-sentence",
   "metadata": {},
   "outputs": [
    {
     "name": "stdout",
     "output_type": "stream",
     "text": [
      "+---------+------------------+------------+--------------------+------------------------------+\n",
      "|seller_id|         avg_order|daily_target|avg_contribution_pct|round(avg_contribution_pct, 2)|\n",
      "+---------+------------------+------------+--------------------+------------------------------+\n",
      "|        0|1110.9372444210526|     2500000| 0.04443748977684211|                          0.04|\n",
      "|        1|3818.4719823112678|      257237|  1.4844178645806272|                          1.48|\n",
      "|        2| 3819.833871243246|      754188|  0.5064829818617169|                          0.51|\n",
      "|        3| 3824.481469172176|      310462|  1.2318678193054788|                          1.23|\n",
      "|        4|3807.6749784110534|     1532808| 0.24841173704802255|                          0.25|\n",
      "|        5|3803.7337879033857|     1199693| 0.31705892990151524|                          0.32|\n",
      "|        6|3811.2040280996785|     1055915|  0.3609385251748179|                          0.36|\n",
      "|        7| 3816.358735590778|     1946998| 0.19601246306317613|                           0.2|\n",
      "|        8|3801.7181057340235|      547320|  0.6946060998563954|                          0.69|\n",
      "|        9| 3829.333327348463|     1318051|  0.2905299815673645|                          0.29|\n",
      "+---------+------------------+------------+--------------------+------------------------------+\n",
      "\n"
     ]
    }
   ],
   "source": [
    "seller_avg_contribution_pct.select('*', round(col('avg_contribution_pct'),2)).show()"
   ]
  },
  {
   "cell_type": "markdown",
   "id": "korean-spread",
   "metadata": {},
   "source": [
    "## Who are the second most selling and the least selling persons (sellers) for each product?"
   ]
  },
  {
   "cell_type": "markdown",
   "id": "behavioral-cooper",
   "metadata": {},
   "source": [
    "### a. Least selling sellers per each product"
   ]
  },
  {
   "cell_type": "code",
   "execution_count": 119,
   "id": "special-communication",
   "metadata": {},
   "outputs": [
    {
     "name": "stdout",
     "output_type": "stream",
     "text": [
      "+--------+----------+---------+----------+---------------+--------------------+----------------+-----+-------+-----------+------------+\n",
      "|order_id|product_id|seller_id|      date|num_pieces_sold|       bill_raw_text|    product_name|price|revenue|seller_name|daily_target|\n",
      "+--------+----------+---------+----------+---------------+--------------------+----------------+-----+-------+-----------+------------+\n",
      "|12478308|  10005243|        6|2020-07-04|             98|qfvpgiscflyjxphcq...|product_10005243|   44| 4312.0|   seller_6|     1055915|\n",
      "| 8996776|  10023464|        9|2020-07-03|             59|jjbyqkzcimBfoehbv...|product_10023464|   19| 1121.0|   seller_9|     1318051|\n",
      "|10476976|  10050363|        6|2020-07-03|             18|xqhlvkpxtzrfdadry...|product_10050363|   98| 1764.0|   seller_6|     1055915|\n",
      "| 5977582|  10089524|        2|2020-07-01|             53|jchvhzbeaicqitpvx...|product_10089524|  100| 5300.0|   seller_2|      754188|\n",
      "| 1482892|  10122266|        2|2020-07-07|             25|kezhpglnqigaqwrss...|product_10122266|   89| 2225.0|   seller_2|      754188|\n",
      "| 2987749|  10134574|        3|2020-07-03|             28|bmtlxvobfmerqlckf...|product_10134574|  138| 3864.0|   seller_3|      310462|\n",
      "|15982399|  10150439|        4|2020-07-01|             72|rvgiffufcxceotpdn...|product_10150439|   71| 5112.0|   seller_4|     1532808|\n",
      "|12494868|  10158822|        9|2020-07-09|             86|pzrsootkmszwuzpsi...|product_10158822|   35| 3010.0|   seller_9|     1318051|\n",
      "|18485793|  10160884|        7|2020-07-01|             89|goZelczdeypjghxta...|product_10160884|   52| 4628.0|   seller_7|     1946998|\n",
      "| 2499725|  10172594|        2|2020-07-03|             60|gndkqyfadrbiaasna...|product_10172594|   81| 4860.0|   seller_2|      754188|\n",
      "| 2491769|  10175294|        7|2020-07-09|             29|owrjfdkvctlnpgwcn...|product_10175294|  112| 3248.0|   seller_7|     1946998|\n",
      "| 7996888|   1017716|        9|2020-07-08|             82|khdtupfmrdgaayizq...| product_1017716|   66| 5412.0|   seller_9|     1318051|\n",
      "|17998848|  10200802|        2|2020-07-04|             42|nwtragsmtdzwuddxb...|product_10200802|   41| 1722.0|   seller_2|      754188|\n",
      "|10978787|  10215353|        1|2020-07-06|             22|qaihdzblvkhjcnqzz...|product_10215353|   56| 1232.0|   seller_1|      257237|\n",
      "|10985061|  10218345|        4|2020-07-10|             98|ypwtputatDvrxntll...|product_10218345|  141|13818.0|   seller_4|     1532808|\n",
      "|10484807|  10220977|        5|2020-07-10|             76|hfytxferykvmdaope...|product_10220977|  132|10032.0|   seller_5|     1199693|\n",
      "| 6990855|  10255853|        7|2020-07-03|             26|nychcgnenspynymic...|product_10255853|  120| 3120.0|   seller_7|     1946998|\n",
      "|16495205|  10288525|        6|2020-07-06|             63|fynucihpbitrmbcqg...|product_10288525|  132| 8316.0|   seller_6|     1055915|\n",
      "| 1985267|  10304712|        9|2020-07-05|             48|pjlfowgkhrncuboha...|product_10304712|   24| 1152.0|   seller_9|     1318051|\n",
      "|10988195|  10324080|        6|2020-07-04|              5|ypdylfnxjvaphduiy...|product_10324080|  130|  650.0|   seller_6|     1055915|\n",
      "+--------+----------+---------+----------+---------------+--------------------+----------------+-----+-------+-----------+------------+\n",
      "only showing top 20 rows\n",
      "\n"
     ]
    }
   ],
   "source": [
    "seller_id_revenue_seller.show()"
   ]
  },
  {
   "cell_type": "code",
   "execution_count": 121,
   "id": "textile-valve",
   "metadata": {},
   "outputs": [
    {
     "data": {
      "text/plain": [
       "[('order_id', 'string'),\n",
       " ('product_id', 'string'),\n",
       " ('seller_id', 'string'),\n",
       " ('date', 'string'),\n",
       " ('num_pieces_sold', 'int'),\n",
       " ('bill_raw_text', 'string'),\n",
       " ('product_name', 'string'),\n",
       " ('price', 'string'),\n",
       " ('revenue', 'double'),\n",
       " ('seller_name', 'string'),\n",
       " ('daily_target', 'string')]"
      ]
     },
     "execution_count": 121,
     "metadata": {},
     "output_type": "execute_result"
    }
   ],
   "source": [
    "products_sales = seller_id_revenue_seller.withColumn('num_pieces_sold', seller_id_revenue_seller['num_pieces_sold'].cast('int'))\n",
    "products_sales.dtypes"
   ]
  },
  {
   "cell_type": "markdown",
   "id": "lasting-terror",
   "metadata": {},
   "source": [
    "__Tried pivot table method, but wasn't too helpful__"
   ]
  },
  {
   "cell_type": "code",
   "execution_count": 129,
   "id": "protective-digit",
   "metadata": {},
   "outputs": [],
   "source": [
    "pivot_product_seller = products_sales.groupBy('product_id').pivot('seller_id').sum(\"num_pieces_sold\")"
   ]
  },
  {
   "cell_type": "code",
   "execution_count": 130,
   "id": "renewable-writing",
   "metadata": {},
   "outputs": [
    {
     "name": "stdout",
     "output_type": "stream",
     "text": [
      "root\n",
      " |-- product_id: string (nullable = true)\n",
      " |-- 0: long (nullable = true)\n",
      " |-- 1: long (nullable = true)\n",
      " |-- 2: long (nullable = true)\n",
      " |-- 3: long (nullable = true)\n",
      " |-- 4: long (nullable = true)\n",
      " |-- 5: long (nullable = true)\n",
      " |-- 6: long (nullable = true)\n",
      " |-- 7: long (nullable = true)\n",
      " |-- 8: long (nullable = true)\n",
      " |-- 9: long (nullable = true)\n",
      "\n"
     ]
    }
   ],
   "source": [
    "pivot_product_seller.printSchema()"
   ]
  },
  {
   "cell_type": "code",
   "execution_count": 131,
   "id": "experimental-scott",
   "metadata": {},
   "outputs": [
    {
     "name": "stdout",
     "output_type": "stream",
     "text": [
      "+----------+----+----+----+----+----+----+----+----+----+----+\n",
      "|product_id|   0|   1|   2|   3|   4|   5|   6|   7|   8|   9|\n",
      "+----------+----+----+----+----+----+----+----+----+----+----+\n",
      "|  10005243|null|null|null|null|null|null|  98|null|null|null|\n",
      "|  10023464|null|null|null|null|null|null|null|null|null|  59|\n",
      "|  10050363|null|null|null|null|null|null|  18|null|null|null|\n",
      "|  10089524|null|null|  53|null|null|null|null|null|null|null|\n",
      "|  10122266|null|null|  25|null|null|null|null|null|null|null|\n",
      "|  10134574|null|null|null|  28|null|null|null|null|null|null|\n",
      "|  10150439|null|null|null|null|  72|null|null|null|null|null|\n",
      "|  10158822|null|null|null|null|null|null|null|null|null|  86|\n",
      "|  10160884|null|null|null|null|null|null|null|  89|null|null|\n",
      "|  10172594|null|null|  60|null|null|null|null|null|null|null|\n",
      "|  10175294|null|null|null|null|null|null|null|  29|null|null|\n",
      "|   1017716|null|null|null|null|null|null|null|null|null|  82|\n",
      "|  10200802|null|null|  42|null|null|null|null|null|null|null|\n",
      "|  10215353|null|  22|null|null|null|null|null|null|null|null|\n",
      "|  10218345|null|null|null|null|  98|null|null|null|null|null|\n",
      "|  10220977|null|null|null|null|null|  76|null|null|null|null|\n",
      "|  10255853|null|null|null|null|null|null|null|  26|null|null|\n",
      "|  10288525|null|null|null|null|null|null|  63|null|null|null|\n",
      "|  10304712|null|null|null|null|null|null|null|null|null|  48|\n",
      "|  10324080|null|null|null|null|null|null|   5|null|null|null|\n",
      "+----------+----+----+----+----+----+----+----+----+----+----+\n",
      "only showing top 20 rows\n",
      "\n"
     ]
    }
   ],
   "source": [
    "pivot_product_seller.show()"
   ]
  },
  {
   "cell_type": "markdown",
   "id": "honey-handy",
   "metadata": {},
   "source": [
    "__Find total sold by sellers per product__"
   ]
  },
  {
   "cell_type": "code",
   "execution_count": 158,
   "id": "ahead-triple",
   "metadata": {},
   "outputs": [],
   "source": [
    "df_total_sold = products_sales.groupby('product_id','seller_id').agg(sum('num_pieces_sold').alias('total_sold')).sort('product_id', 'seller_id')"
   ]
  },
  {
   "cell_type": "code",
   "execution_count": 159,
   "id": "loaded-ready",
   "metadata": {},
   "outputs": [
    {
     "name": "stdout",
     "output_type": "stream",
     "text": [
      "root\n",
      " |-- product_id: string (nullable = true)\n",
      " |-- seller_id: string (nullable = true)\n",
      " |-- total_sold: long (nullable = true)\n",
      "\n",
      "+----------+---------+----------+\n",
      "|product_id|seller_id|total_sold|\n",
      "+----------+---------+----------+\n",
      "|         0|        0| 959445802|\n",
      "|  10000006|        4|        39|\n",
      "|  10000047|        9|        29|\n",
      "|  10000271|        5|        51|\n",
      "|   1000030|        5|        89|\n",
      "|   1000042|        9|        47|\n",
      "|  10000429|        6|         6|\n",
      "|  10000601|        8|         6|\n",
      "|  10000607|        2|        30|\n",
      "|   1000065|        7|        33|\n",
      "|  10000712|        7|        59|\n",
      "|  10000715|        6|        51|\n",
      "|  10000865|        1|        67|\n",
      "|  10000971|        9|        50|\n",
      "|   1000101|        5|        61|\n",
      "|  10001082|        1|         4|\n",
      "|  10001097|        3|        92|\n",
      "|  10001174|        9|        71|\n",
      "|  10001234|        5|        68|\n",
      "|   1000124|        9|        73|\n",
      "+----------+---------+----------+\n",
      "only showing top 20 rows\n",
      "\n"
     ]
    }
   ],
   "source": [
    "df_total_sold.printSchema()\n",
    "df_total_sold.show()"
   ]
  },
  {
   "cell_type": "markdown",
   "id": "korean-victorian",
   "metadata": {},
   "source": [
    "__Find the minimum total sold per product_id__"
   ]
  },
  {
   "cell_type": "code",
   "execution_count": 160,
   "id": "gentle-lighter",
   "metadata": {},
   "outputs": [],
   "source": [
    "min_sold = df_total_sold.groupby('product_id').agg(min('total_sold').alias('min_sold'))"
   ]
  },
  {
   "cell_type": "code",
   "execution_count": 161,
   "id": "saved-africa",
   "metadata": {},
   "outputs": [
    {
     "name": "stdout",
     "output_type": "stream",
     "text": [
      "root\n",
      " |-- product_id: string (nullable = true)\n",
      " |-- min_sold: long (nullable = true)\n",
      "\n",
      "+----------+--------+\n",
      "|product_id|min_sold|\n",
      "+----------+--------+\n",
      "|  10005243|      98|\n",
      "|  10023464|      59|\n",
      "|  10050363|      18|\n",
      "|  10089524|      53|\n",
      "|  10122266|      25|\n",
      "|  10134574|      28|\n",
      "|  10150439|      72|\n",
      "|  10158822|      86|\n",
      "|  10160884|      89|\n",
      "|  10172594|      60|\n",
      "|  10175294|      29|\n",
      "|   1017716|      82|\n",
      "|  10200802|      42|\n",
      "|  10215353|      22|\n",
      "|  10218345|      98|\n",
      "|  10220977|      76|\n",
      "|  10255853|      26|\n",
      "|  10288525|      63|\n",
      "|  10304712|      48|\n",
      "|  10324080|       5|\n",
      "+----------+--------+\n",
      "only showing top 20 rows\n",
      "\n"
     ]
    }
   ],
   "source": [
    "min_sold.printSchema()\n",
    "min_sold.show()"
   ]
  },
  {
   "cell_type": "markdown",
   "id": "plastic-nothing",
   "metadata": {},
   "source": [
    "__Check the least sold per product by comparing between `minimum sold` from min sold dataframe and `total sold` from total sold dataframe.__"
   ]
  },
  {
   "cell_type": "code",
   "execution_count": 165,
   "id": "welcome-march",
   "metadata": {},
   "outputs": [],
   "source": [
    "joinExpression = [min_sold['product_id'] == df_total_sold['product_id'], min_sold['min_sold'] == df_total_sold['total_sold']]\n",
    "least_sold_per_product = min_sold.join(df_total_sold, joinExpression).drop(df_total_sold['product_id'])"
   ]
  },
  {
   "cell_type": "code",
   "execution_count": 166,
   "id": "taken-dollar",
   "metadata": {},
   "outputs": [
    {
     "name": "stdout",
     "output_type": "stream",
     "text": [
      "root\n",
      " |-- min_sold: long (nullable = true)\n",
      " |-- product_id: string (nullable = true)\n",
      " |-- seller_id: string (nullable = true)\n",
      " |-- total_sold: long (nullable = true)\n",
      "\n"
     ]
    }
   ],
   "source": [
    "least_sold_per_product.printSchema()"
   ]
  },
  {
   "cell_type": "code",
   "execution_count": 168,
   "id": "better-fiber",
   "metadata": {},
   "outputs": [
    {
     "name": "stdout",
     "output_type": "stream",
     "text": [
      "+---------+----------+---------+\n",
      "| min_sold|product_id|seller_id|\n",
      "+---------+----------+---------+\n",
      "|959445802|         0|        0|\n",
      "|       39|  10000006|        4|\n",
      "|       29|  10000047|        9|\n",
      "|       51|  10000271|        5|\n",
      "|       89|   1000030|        5|\n",
      "|       47|   1000042|        9|\n",
      "|        6|  10000429|        6|\n",
      "|        6|  10000601|        8|\n",
      "|       30|  10000607|        2|\n",
      "|       33|   1000065|        7|\n",
      "|       59|  10000712|        7|\n",
      "|       51|  10000715|        6|\n",
      "|       67|  10000865|        1|\n",
      "|       50|  10000971|        9|\n",
      "|       61|   1000101|        5|\n",
      "|        4|  10001082|        1|\n",
      "|       92|  10001097|        3|\n",
      "|       71|  10001174|        9|\n",
      "|       68|  10001234|        5|\n",
      "|       73|   1000124|        9|\n",
      "+---------+----------+---------+\n",
      "only showing top 20 rows\n",
      "\n"
     ]
    }
   ],
   "source": [
    "least_sold_per_product.orderBy('product_id').drop('total_sold').show()"
   ]
  },
  {
   "cell_type": "markdown",
   "id": "exclusive-color",
   "metadata": {},
   "source": [
    "### b. Second most selling sellers per each product"
   ]
  },
  {
   "cell_type": "markdown",
   "id": "powered-current",
   "metadata": {},
   "source": [
    "__Find the maximum sold amount__"
   ]
  },
  {
   "cell_type": "code",
   "execution_count": 169,
   "id": "lesser-sacrifice",
   "metadata": {},
   "outputs": [],
   "source": [
    "max_sold = df_total_sold.groupby('product_id').agg(max('total_sold').alias('max_sold'))"
   ]
  },
  {
   "cell_type": "code",
   "execution_count": 170,
   "id": "atlantic-parking",
   "metadata": {},
   "outputs": [
    {
     "name": "stdout",
     "output_type": "stream",
     "text": [
      "root\n",
      " |-- product_id: string (nullable = true)\n",
      " |-- max_sold: long (nullable = true)\n",
      "\n",
      "+----------+--------+\n",
      "|product_id|max_sold|\n",
      "+----------+--------+\n",
      "|  10005243|      98|\n",
      "|  10023464|      59|\n",
      "|  10050363|      18|\n",
      "|  10089524|      53|\n",
      "|  10122266|      25|\n",
      "|  10134574|      28|\n",
      "|  10150439|      72|\n",
      "|  10158822|      86|\n",
      "|  10160884|      89|\n",
      "|  10172594|      60|\n",
      "|  10175294|      29|\n",
      "|   1017716|      82|\n",
      "|  10200802|      42|\n",
      "|  10215353|      22|\n",
      "|  10218345|      98|\n",
      "|  10220977|      76|\n",
      "|  10255853|      26|\n",
      "|  10288525|      63|\n",
      "|  10304712|      48|\n",
      "|  10324080|       5|\n",
      "+----------+--------+\n",
      "only showing top 20 rows\n",
      "\n"
     ]
    }
   ],
   "source": [
    "max_sold.printSchema()\n",
    "max_sold.show()"
   ]
  },
  {
   "cell_type": "markdown",
   "id": "laughing-protein",
   "metadata": {},
   "source": [
    "__Create a new dataframe by getting rid of the `maximum sold` in the `total sold dataframe`__"
   ]
  },
  {
   "cell_type": "code",
   "execution_count": 199,
   "id": "vocational-affiliation",
   "metadata": {},
   "outputs": [],
   "source": [
    "joinExpression = [max_sold['product_id'] == df_total_sold['product_id'], max_sold['max_sold'] != df_total_sold['total_sold']]\n",
    "total_sold_max_dropped = max_sold.join(df_total_sold, joinExpression).drop(df_total_sold['product_id'])"
   ]
  },
  {
   "cell_type": "code",
   "execution_count": 200,
   "id": "monthly-profile",
   "metadata": {},
   "outputs": [
    {
     "name": "stdout",
     "output_type": "stream",
     "text": [
      "root\n",
      " |-- max_sold: long (nullable = true)\n",
      " |-- product_id: string (nullable = true)\n",
      " |-- seller_id: string (nullable = true)\n",
      " |-- total_sold: long (nullable = true)\n",
      "\n",
      "+--------+----------+---------+----------+\n",
      "|max_sold|product_id|seller_id|total_sold|\n",
      "+--------+----------+---------+----------+\n",
      "|     100|  12194170|        3|        85|\n",
      "|      49|  14700981|        1|        29|\n",
      "|      99|  16113262|        7|        16|\n",
      "|     100|  17806195|        5|        81|\n",
      "|      99|  19121475|        3|        53|\n",
      "|      57|  19351340|        6|        40|\n",
      "|      77|  22001601|        4|        70|\n",
      "|      66|  22357251|        3|        25|\n",
      "|      22|  24279067|        3|         6|\n",
      "|      57|  24401456|        6|         4|\n",
      "|      80|  27293252|        6|        64|\n",
      "|      73|  29343804|        4|        46|\n",
      "|      76|    307787|        1|        62|\n",
      "|      80|   3086568|        1|         2|\n",
      "|      36|  31598409|        3|        29|\n",
      "|      78|  32858319|        9|         4|\n",
      "|      93|  33915630|        5|        48|\n",
      "|      95|  36993002|        6|        10|\n",
      "|      91|  39748505|        2|         1|\n",
      "|      89|   3984141|        9|        56|\n",
      "+--------+----------+---------+----------+\n",
      "only showing top 20 rows\n",
      "\n"
     ]
    }
   ],
   "source": [
    "total_sold_max_dropped.printSchema()\n",
    "total_sold_max_dropped.show()"
   ]
  },
  {
   "cell_type": "markdown",
   "id": "encouraging-harvard",
   "metadata": {},
   "source": [
    "__Get the max sold from the new dataFrame__"
   ]
  },
  {
   "cell_type": "code",
   "execution_count": 203,
   "id": "unlimited-funeral",
   "metadata": {},
   "outputs": [],
   "source": [
    "second_max_sold_prep = total_sold_max_dropped.groupby('product_id').agg(max('total_sold').alias('second_max_sold'))"
   ]
  },
  {
   "cell_type": "code",
   "execution_count": 204,
   "id": "unnecessary-physics",
   "metadata": {},
   "outputs": [
    {
     "name": "stdout",
     "output_type": "stream",
     "text": [
      "root\n",
      " |-- product_id: string (nullable = true)\n",
      " |-- second_max_sold: long (nullable = true)\n",
      "\n",
      "+----------+---------------+\n",
      "|product_id|second_max_sold|\n",
      "+----------+---------------+\n",
      "|  12194170|             85|\n",
      "|  14700981|             29|\n",
      "|  16113262|             16|\n",
      "|  17806195|             81|\n",
      "|  19121475|             53|\n",
      "|  19351340|             40|\n",
      "|  22001601|             70|\n",
      "|  22357251|             25|\n",
      "|  24279067|              6|\n",
      "|  24401456|              4|\n",
      "|  27293252|             64|\n",
      "|  29343804|             46|\n",
      "|    307787|             62|\n",
      "|   3086568|              2|\n",
      "|  31598409|             29|\n",
      "|  32858319|              4|\n",
      "|  33915630|             48|\n",
      "|  36993002|             10|\n",
      "|  39748505|              1|\n",
      "|   3984141|             56|\n",
      "+----------+---------------+\n",
      "only showing top 20 rows\n",
      "\n"
     ]
    }
   ],
   "source": [
    "second_max_sold_prep.printSchema()\n",
    "second_max_sold_prep.show()"
   ]
  },
  {
   "cell_type": "markdown",
   "id": "polar-rabbit",
   "metadata": {},
   "source": [
    "__Get the maximum number of sold by comparing with `total sold` in total sold dataframe, which is the 2nd maximum sold number__"
   ]
  },
  {
   "cell_type": "code",
   "execution_count": 206,
   "id": "manufactured-merchant",
   "metadata": {},
   "outputs": [],
   "source": [
    "joinExpression = [second_max_sold_prep['product_id'] == df_total_sold['product_id'], second_max_sold_prep['second_max_sold'] == df_total_sold['total_sold']]\n",
    "second_max_sold = second_max_sold_prep.join(df_total_sold, joinExpression).drop(df_total_sold['product_id'])"
   ]
  },
  {
   "cell_type": "code",
   "execution_count": 210,
   "id": "diagnostic-modem",
   "metadata": {},
   "outputs": [
    {
     "name": "stdout",
     "output_type": "stream",
     "text": [
      "root\n",
      " |-- product_id: string (nullable = true)\n",
      " |-- second_max_sold: long (nullable = true)\n",
      " |-- seller_id: string (nullable = true)\n",
      " |-- total_sold: long (nullable = true)\n",
      "\n"
     ]
    }
   ],
   "source": [
    "second_max_sold.printSchema()"
   ]
  },
  {
   "cell_type": "code",
   "execution_count": 209,
   "id": "turned-center",
   "metadata": {},
   "outputs": [
    {
     "name": "stdout",
     "output_type": "stream",
     "text": [
      "+----------+---------------+---------+\n",
      "|product_id|second_max_sold|seller_id|\n",
      "+----------+---------------+---------+\n",
      "|    100142|             47|        9|\n",
      "|  10030330|             68|        5|\n",
      "|  10031766|             76|        5|\n",
      "|  10059280|             23|        7|\n",
      "|  10063288|             61|        7|\n",
      "|  10067998|              9|        9|\n",
      "|  10074531|              2|        9|\n",
      "|  10079600|             21|        9|\n",
      "|  10090404|             81|        6|\n",
      "|  10099820|             11|        3|\n",
      "|   1011418|             50|        4|\n",
      "|  10140476|             50|        4|\n",
      "|   1015828|             61|        4|\n",
      "|   1015908|             86|        8|\n",
      "|   1016707|              9|        4|\n",
      "|  10176212|             36|        2|\n",
      "|  10189576|             74|        5|\n",
      "|  10196252|             41|        7|\n",
      "|  10208871|             39|        7|\n",
      "|  10220712|             30|        3|\n",
      "+----------+---------------+---------+\n",
      "only showing top 20 rows\n",
      "\n"
     ]
    }
   ],
   "source": [
    "second_max_sold.orderBy('product_id').drop('total_sold').show()"
   ]
  },
  {
   "cell_type": "markdown",
   "id": "german-cooper",
   "metadata": {},
   "source": [
    "__(CS Students Only)__"
   ]
  },
  {
   "cell_type": "markdown",
   "id": "senior-district",
   "metadata": {},
   "source": [
    "## Create a new column called \"hashed_bill\" defined as follows:"
   ]
  },
  {
   "cell_type": "markdown",
   "id": "spectacular-artist",
   "metadata": {},
   "source": [
    "- If the order_id is even: apply MD5 hashing iteratively to the bill_raw_text field, once for each 'A' (capital 'A') present in the text. E.g. if the bill text is 'nbAAnllA', you would apply hashing three times iteratively (only if the order number is even)\n",
    "\n",
    "- If the order_id is odd: apply SHA256 hashing to the bill text"
   ]
  },
  {
   "cell_type": "code",
   "execution_count": 247,
   "id": "junior-blake",
   "metadata": {},
   "outputs": [
    {
     "name": "stdout",
     "output_type": "stream",
     "text": [
      "+--------+----------+---------+----------+---------------+--------------------+\n",
      "|order_id|product_id|seller_id|      date|num_pieces_sold|       bill_raw_text|\n",
      "+--------+----------+---------+----------+---------------+--------------------+\n",
      "|       1|         0|        0|2020-07-10|             26|kyeibuumwlyhuwksx...|\n",
      "|       2|         0|        0|2020-07-08|             13|jfyuoyfkeyqkckwbu...|\n",
      "|       3|         0|        0|2020-07-05|             38|uyjihlzhzcswxcccx...|\n",
      "|       4|         0|        0|2020-07-05|             56|umnxvoqbdzpbwjqmz...|\n",
      "|       5|         0|        0|2020-07-05|             11|zmqexmaawmvdpqhih...|\n",
      "|       6|         0|        0|2020-07-01|             82|lmuhhkpyuoyslwmvX...|\n",
      "|       7|         0|        0|2020-07-04|             15|zoqweontumefxbgvu...|\n",
      "|       8|         0|        0|2020-07-08|             79|sgldfgtcxufasnvsc...|\n",
      "|       9|         0|        0|2020-07-10|             25|jnykelwjjebgkwgmu...|\n",
      "|      10|         0|        0|2020-07-08|              8|yywjfihneygcvfnyl...|\n",
      "|      11|         0|        0|2020-07-01|             10|nxwejyoeznltdhcam...|\n",
      "|      12|         0|        0|2020-07-06|             45|efmymeftivwsfljzt...|\n",
      "|      13|         0|        0|2020-07-10|             63|nxhvtospPhfnkavdy...|\n",
      "|      14|         0|        0|2020-07-03|             22|ypyusdsjzfpfbucnn...|\n",
      "|      15|         0|        0|2020-07-09|             75|ymjvbhaxffyjcwzyn...|\n",
      "|      16|         0|        0|2020-07-10|             83|phbcykkhvqsbkipwa...|\n",
      "|      17|         0|        0|2020-07-04|             54|qgnGqqnjmbqZytoug...|\n",
      "|      18|         0|        0|2020-07-04|             58|ozmllbabrnhebWcex...|\n",
      "|      19|         0|        0|2020-07-07|             33|kbrvXuzgiuinodtkg...|\n",
      "|      20|         0|        0|2020-07-09|             73|jnqjzaigjtqlfwpug...|\n",
      "+--------+----------+---------+----------+---------------+--------------------+\n",
      "only showing top 20 rows\n",
      "\n"
     ]
    }
   ],
   "source": [
    "df_sales.show()"
   ]
  },
  {
   "cell_type": "code",
   "execution_count": 256,
   "id": "devoted-accordance",
   "metadata": {},
   "outputs": [
    {
     "data": {
      "text/plain": [
       "[('order_id', 'int'),\n",
       " ('product_id', 'string'),\n",
       " ('seller_id', 'string'),\n",
       " ('date', 'string'),\n",
       " ('num_pieces_sold', 'string'),\n",
       " ('bill_raw_text', 'string')]"
      ]
     },
     "execution_count": 256,
     "metadata": {},
     "output_type": "execute_result"
    }
   ],
   "source": [
    "df_hashing = df_sales.withColumn('order_id', df_sales['order_id'].cast('int'))\n",
    "df_hashing.dtypes"
   ]
  },
  {
   "cell_type": "markdown",
   "id": "skilled-scenario",
   "metadata": {},
   "source": [
    "__Create a custom hasing function, and apply to the dataframe__"
   ]
  },
  {
   "cell_type": "code",
   "execution_count": 269,
   "id": "alone-weather",
   "metadata": {},
   "outputs": [],
   "source": [
    "def hash_function(order_id, bill_raw_text):\n",
    "    if order_id%2 == 0:\n",
    "        count_A = bill_raw_text.count('A')\n",
    "        if count_A > 0:\n",
    "            for c in range(count_A):\n",
    "                md = hashlib.md5(bill_raw_text.encode()).hexdigest()\n",
    "            return md\n",
    "        else: \n",
    "            return bill_raw_text\n",
    "    else:\n",
    "        sha_value = hashlib.sha256(bill_raw_text.encode()).hexdigest()\n",
    "        return sha_value"
   ]
  },
  {
   "cell_type": "code",
   "execution_count": 270,
   "id": "caring-guitar",
   "metadata": {},
   "outputs": [
    {
     "name": "stdout",
     "output_type": "stream",
     "text": [
      "+--------+----------+---------+----------+---------------+--------------------+--------------------+\n",
      "|order_id|product_id|seller_id|      date|num_pieces_sold|       bill_raw_text|         hashed_bill|\n",
      "+--------+----------+---------+----------+---------------+--------------------+--------------------+\n",
      "|       1|         0|        0|2020-07-10|             26|kyeibuumwlyhuwksx...|f6fa2a8be04a4ead6...|\n",
      "|       2|         0|        0|2020-07-08|             13|jfyuoyfkeyqkckwbu...|jfyuoyfkeyqkckwbu...|\n",
      "|       3|         0|        0|2020-07-05|             38|uyjihlzhzcswxcccx...|416376a64cd652e7b...|\n",
      "|       4|         0|        0|2020-07-05|             56|umnxvoqbdzpbwjqmz...|umnxvoqbdzpbwjqmz...|\n",
      "|       5|         0|        0|2020-07-05|             11|zmqexmaawmvdpqhih...|787d361b162a6aa1a...|\n",
      "|       6|         0|        0|2020-07-01|             82|lmuhhkpyuoyslwmvX...|lmuhhkpyuoyslwmvX...|\n",
      "|       7|         0|        0|2020-07-04|             15|zoqweontumefxbgvu...|4540f452a7c4d5049...|\n",
      "|       8|         0|        0|2020-07-08|             79|sgldfgtcxufasnvsc...|sgldfgtcxufasnvsc...|\n",
      "|       9|         0|        0|2020-07-10|             25|jnykelwjjebgkwgmu...|28b93c1c62caa2b97...|\n",
      "|      10|         0|        0|2020-07-08|              8|yywjfihneygcvfnyl...|51d35e22937a5f4f2...|\n",
      "|      11|         0|        0|2020-07-01|             10|nxwejyoeznltdhcam...|000cbc89a752db6c4...|\n",
      "|      12|         0|        0|2020-07-06|             45|efmymeftivwsfljzt...|efmymeftivwsfljzt...|\n",
      "|      13|         0|        0|2020-07-10|             63|nxhvtospPhfnkavdy...|dd67ab7d952be16fa...|\n",
      "|      14|         0|        0|2020-07-03|             22|ypyusdsjzfpfbucnn...|ypyusdsjzfpfbucnn...|\n",
      "|      15|         0|        0|2020-07-09|             75|ymjvbhaxffyjcwzyn...|1ffcc4531e752f9a1...|\n",
      "|      16|         0|        0|2020-07-10|             83|phbcykkhvqsbkipwa...|phbcykkhvqsbkipwa...|\n",
      "|      17|         0|        0|2020-07-04|             54|qgnGqqnjmbqZytoug...|2e93d3b4789a5fb76...|\n",
      "|      18|         0|        0|2020-07-04|             58|ozmllbabrnhebWcex...|ozmllbabrnhebWcex...|\n",
      "|      19|         0|        0|2020-07-07|             33|kbrvXuzgiuinodtkg...|985ddbfaac225a8c2...|\n",
      "|      20|         0|        0|2020-07-09|             73|jnqjzaigjtqlfwpug...|jnqjzaigjtqlfwpug...|\n",
      "+--------+----------+---------+----------+---------------+--------------------+--------------------+\n",
      "only showing top 20 rows\n",
      "\n"
     ]
    }
   ],
   "source": [
    "spark_udf = udf(hash_function, StringType())\n",
    "final_df = df_hashing.withColumn('hashed_bill', spark_udf('order_id', 'bill_raw_text'))\n",
    "final_df.show()"
   ]
  },
  {
   "cell_type": "markdown",
   "id": "residential-prescription",
   "metadata": {},
   "source": [
    "## Finally, check if there are any duplicates in the new column"
   ]
  },
  {
   "cell_type": "code",
   "execution_count": 271,
   "id": "killing-canon",
   "metadata": {},
   "outputs": [
    {
     "data": {
      "text/plain": [
       "20000040"
      ]
     },
     "execution_count": 271,
     "metadata": {},
     "output_type": "execute_result"
    }
   ],
   "source": [
    "final_df.select('bill_raw_text').count()"
   ]
  },
  {
   "cell_type": "code",
   "execution_count": 272,
   "id": "assigned-topic",
   "metadata": {},
   "outputs": [
    {
     "data": {
      "text/plain": [
       "20000040"
      ]
     },
     "execution_count": 272,
     "metadata": {},
     "output_type": "execute_result"
    }
   ],
   "source": [
    "final_df.select('hashed_bill').distinct().count()"
   ]
  },
  {
   "cell_type": "markdown",
   "id": "forbidden-exhibition",
   "metadata": {},
   "source": [
    "__Comparing the number of `bill_raw_text` and unique number of `hashed_bill`, there is no duplicates in the `hashed_bill` column.__"
   ]
  }
 ],
 "metadata": {
  "kernelspec": {
   "display_name": "PySpark",
   "language": "python",
   "name": "pyspark"
  },
  "language_info": {
   "codemirror_mode": {
    "name": "ipython",
    "version": 3
   },
   "file_extension": ".py",
   "mimetype": "text/x-python",
   "name": "python",
   "nbconvert_exporter": "python",
   "pygments_lexer": "ipython3",
   "version": "3.6.9"
  }
 },
 "nbformat": 4,
 "nbformat_minor": 5
}
