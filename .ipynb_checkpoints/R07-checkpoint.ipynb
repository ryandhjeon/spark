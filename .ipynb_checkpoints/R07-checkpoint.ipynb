{
 "cells": [
  {
   "cell_type": "code",
   "execution_count": 1,
   "id": "pressing-ghost",
   "metadata": {},
   "outputs": [],
   "source": [
    "import findspark\n",
    "findspark.init()\n",
    "import pyspark\n",
    "from pyspark.sql import SparkSession\n",
    "from pyspark.sql.functions import *"
   ]
  },
  {
   "cell_type": "code",
   "execution_count": 2,
   "id": "varied-atlas",
   "metadata": {},
   "outputs": [],
   "source": [
    "spark = SparkSession \\\n",
    "    .builder \\\n",
    "    .appName('Spark++ Application') \\\n",
    "    .getOrCreate()"
   ]
  },
  {
   "cell_type": "markdown",
   "id": "million-filter",
   "metadata": {},
   "source": [
    "## Load datasets"
   ]
  },
  {
   "cell_type": "code",
   "execution_count": 3,
   "id": "adverse-lover",
   "metadata": {},
   "outputs": [],
   "source": [
    "df_products = spark.read.parquet('../data/spark_data/DatasetToCompleteTheSixSparkExercises/products_parquet/')\n",
    "df_sellers = spark.read.parquet('../data/spark_data/DatasetToCompleteTheSixSparkExercises/sellers_parquet/')\n",
    "df_sales = spark.read.parquet('../data/spark_data/DatasetToCompleteTheSixSparkExercises/sales_parquet/')"
   ]
  },
  {
   "cell_type": "code",
   "execution_count": 4,
   "id": "working-cooking",
   "metadata": {},
   "outputs": [],
   "source": [
    "datasets = [df_products, df_sellers, df_sales]"
   ]
  },
  {
   "cell_type": "code",
   "execution_count": 5,
   "id": "noticed-plaintiff",
   "metadata": {},
   "outputs": [
    {
     "name": "stdout",
     "output_type": "stream",
     "text": [
      "root\n",
      " |-- product_id: string (nullable = true)\n",
      " |-- product_name: string (nullable = true)\n",
      " |-- price: string (nullable = true)\n",
      "\n",
      "+----------+------------+-----+\n",
      "|product_id|product_name|price|\n",
      "+----------+------------+-----+\n",
      "|         0|   product_0|   22|\n",
      "|         1|   product_1|   30|\n",
      "|         2|   product_2|   91|\n",
      "+----------+------------+-----+\n",
      "only showing top 3 rows\n",
      "\n",
      "root\n",
      " |-- seller_id: string (nullable = true)\n",
      " |-- seller_name: string (nullable = true)\n",
      " |-- daily_target: string (nullable = true)\n",
      "\n",
      "+---------+-----------+------------+\n",
      "|seller_id|seller_name|daily_target|\n",
      "+---------+-----------+------------+\n",
      "|        0|   seller_0|     2500000|\n",
      "|        1|   seller_1|      257237|\n",
      "|        2|   seller_2|      754188|\n",
      "+---------+-----------+------------+\n",
      "only showing top 3 rows\n",
      "\n",
      "root\n",
      " |-- order_id: string (nullable = true)\n",
      " |-- product_id: string (nullable = true)\n",
      " |-- seller_id: string (nullable = true)\n",
      " |-- date: string (nullable = true)\n",
      " |-- num_pieces_sold: string (nullable = true)\n",
      " |-- bill_raw_text: string (nullable = true)\n",
      "\n",
      "+--------+----------+---------+----------+---------------+--------------------+\n",
      "|order_id|product_id|seller_id|      date|num_pieces_sold|       bill_raw_text|\n",
      "+--------+----------+---------+----------+---------------+--------------------+\n",
      "|       1|         0|        0|2020-07-10|             26|kyeibuumwlyhuwksx...|\n",
      "|       2|         0|        0|2020-07-08|             13|jfyuoyfkeyqkckwbu...|\n",
      "|       3|         0|        0|2020-07-05|             38|uyjihlzhzcswxcccx...|\n",
      "+--------+----------+---------+----------+---------------+--------------------+\n",
      "only showing top 3 rows\n",
      "\n"
     ]
    }
   ],
   "source": [
    "for dataset in datasets:\n",
    "    dataset.printSchema()\n",
    "    dataset.show(3)"
   ]
  },
  {
   "cell_type": "markdown",
   "id": "included-purchase",
   "metadata": {},
   "source": [
    "## How many distinct products are sold each day?"
   ]
  },
  {
   "cell_type": "code",
   "execution_count": 6,
   "id": "early-hotel",
   "metadata": {},
   "outputs": [],
   "source": [
    "df_distinct_products = df_sales.groupby(col(\"date\")).agg(countDistinct(col(\"product_id\")).alias(\"distinct_products_sold\")).orderBy(col(\"distinct_products_sold\").desc())"
   ]
  },
  {
   "cell_type": "code",
   "execution_count": 7,
   "id": "wooden-chemical",
   "metadata": {},
   "outputs": [
    {
     "name": "stdout",
     "output_type": "stream",
     "text": [
      "root\n",
      " |-- date: string (nullable = true)\n",
      " |-- distinct_products_sold: long (nullable = false)\n",
      "\n",
      "+----------+----------------------+\n",
      "|      date|distinct_products_sold|\n",
      "+----------+----------------------+\n",
      "|2020-07-06|                100765|\n",
      "|2020-07-09|                100501|\n",
      "|2020-07-01|                100337|\n",
      "|2020-07-03|                100017|\n",
      "|2020-07-02|                 99807|\n",
      "|2020-07-05|                 99796|\n",
      "|2020-07-04|                 99791|\n",
      "|2020-07-07|                 99756|\n",
      "|2020-07-08|                 99662|\n",
      "|2020-07-10|                 98973|\n",
      "+----------+----------------------+\n",
      "\n"
     ]
    }
   ],
   "source": [
    "df_distinct_products.printSchema()\n",
    "df_distinct_products.show()"
   ]
  },
  {
   "cell_type": "code",
   "execution_count": 8,
   "id": "aware-insert",
   "metadata": {},
   "outputs": [],
   "source": [
    "df_sales.createOrReplaceTempView(\"PRODUCT_DATA\")"
   ]
  },
  {
   "cell_type": "code",
   "execution_count": 9,
   "id": "current-timeline",
   "metadata": {},
   "outputs": [
    {
     "name": "stdout",
     "output_type": "stream",
     "text": [
      "root\n",
      " |-- date: string (nullable = true)\n",
      " |-- count(DISTINCT product_Id): long (nullable = false)\n",
      "\n"
     ]
    }
   ],
   "source": [
    "products_sale = spark.sql('SELECT date, Count(DISTINCT product_Id) from PRODUCT_DATA GROUP BY date ORDER BY Count(DISTINCT product_Id)')\n",
    "products_sale.printSchema()\n",
    "# products_sale.show(3)"
   ]
  },
  {
   "cell_type": "markdown",
   "id": "disciplinary-boulder",
   "metadata": {},
   "source": [
    "__Number of distinct products sold each day: ???__"
   ]
  },
  {
   "cell_type": "markdown",
   "id": "norman-evolution",
   "metadata": {},
   "source": [
    "## What is the average revenue of the orders?"
   ]
  },
  {
   "cell_type": "code",
   "execution_count": 10,
   "id": "asian-shade",
   "metadata": {},
   "outputs": [],
   "source": [
    "joinExpression = df_products[\"product_id\"] == df_sales['product_id']\n",
    "joinType = 'inner'\n",
    "df_join_products = df_products.join(df_sales, joinExpression, joinType).drop(df_products['product_id'])"
   ]
  },
  {
   "cell_type": "code",
   "execution_count": 11,
   "id": "automotive-phrase",
   "metadata": {},
   "outputs": [
    {
     "name": "stdout",
     "output_type": "stream",
     "text": [
      "root\n",
      " |-- product_name: string (nullable = true)\n",
      " |-- price: string (nullable = true)\n",
      " |-- order_id: string (nullable = true)\n",
      " |-- product_id: string (nullable = true)\n",
      " |-- seller_id: string (nullable = true)\n",
      " |-- date: string (nullable = true)\n",
      " |-- num_pieces_sold: string (nullable = true)\n",
      " |-- bill_raw_text: string (nullable = true)\n",
      "\n"
     ]
    }
   ],
   "source": [
    "df_join_products.printSchema()\n",
    "# df_join_products.show(3)"
   ]
  },
  {
   "cell_type": "code",
   "execution_count": 12,
   "id": "powerful-germany",
   "metadata": {},
   "outputs": [],
   "source": [
    "df_revenue_per_product = df_join_products.withColumn('revenue_per_product', df_join_products['price'] * df_join_products['num_pieces_sold'])"
   ]
  },
  {
   "cell_type": "code",
   "execution_count": 13,
   "id": "oriented-sugar",
   "metadata": {},
   "outputs": [
    {
     "name": "stdout",
     "output_type": "stream",
     "text": [
      "root\n",
      " |-- product_name: string (nullable = true)\n",
      " |-- price: string (nullable = true)\n",
      " |-- order_id: string (nullable = true)\n",
      " |-- product_id: string (nullable = true)\n",
      " |-- seller_id: string (nullable = true)\n",
      " |-- date: string (nullable = true)\n",
      " |-- num_pieces_sold: string (nullable = true)\n",
      " |-- bill_raw_text: string (nullable = true)\n",
      " |-- revenue_per_product: double (nullable = true)\n",
      "\n"
     ]
    }
   ],
   "source": [
    "df_revenue_per_product.printSchema()\n",
    "# df_revenue_per_product.show(3)"
   ]
  },
  {
   "cell_type": "code",
   "execution_count": 16,
   "id": "resistant-indianapolis",
   "metadata": {},
   "outputs": [],
   "source": [
    "df_total_revenue = df_revenue_per_product.groupby(col('order_id')).agg(sum(col('revenue_per_product')).alias(\"total_revenue\"))"
   ]
  },
  {
   "cell_type": "code",
   "execution_count": 17,
   "id": "sophisticated-radiation",
   "metadata": {},
   "outputs": [
    {
     "name": "stdout",
     "output_type": "stream",
     "text": [
      "root\n",
      " |-- order_id: string (nullable = true)\n",
      " |-- total_revenue: double (nullable = true)\n",
      "\n"
     ]
    }
   ],
   "source": [
    "df_total_revenue.printSchema()\n",
    "# df_total_revenue.show(3)"
   ]
  },
  {
   "cell_type": "code",
   "execution_count": 18,
   "id": "southwest-removal",
   "metadata": {},
   "outputs": [],
   "source": [
    "sum_total_revenue = df_total_revenue.groupby().agg(sum('total_revenue'))"
   ]
  },
  {
   "cell_type": "code",
   "execution_count": 19,
   "id": "terminal-thong",
   "metadata": {
    "scrolled": true
   },
   "outputs": [
    {
     "name": "stdout",
     "output_type": "stream",
     "text": [
      "root\n",
      " |-- sum(total_revenue): double (nullable = true)\n",
      "\n"
     ]
    }
   ],
   "source": [
    "sum_total_revenue.printSchema()\n",
    "# sum_total_revenue.show()"
   ]
  },
  {
   "cell_type": "code",
   "execution_count": 23,
   "id": "urban-python",
   "metadata": {},
   "outputs": [
    {
     "ename": "AnalysisException",
     "evalue": "cannot resolve '`total_order`' given input columns: [sum(total_revenue)];;\n'Aggregate [count('total_order) AS count(total_order)#193]\n+- Aggregate [sum(total_revenue#183) AS sum(total_revenue)#189]\n   +- Aggregate [order_id#12], [order_id#12, sum(revenue_per_product#139) AS total_revenue#183]\n      +- Project [product_name#1, price#2, order_id#12, product_id#13, seller_id#14, date#15, num_pieces_sold#16, bill_raw_text#17, (cast(price#2 as double) * cast(num_pieces_sold#16 as double)) AS revenue_per_product#139]\n         +- Project [product_name#1, price#2, order_id#12, product_id#13, seller_id#14, date#15, num_pieces_sold#16, bill_raw_text#17]\n            +- Join Inner, (product_id#0 = product_id#13)\n               :- Relation[product_id#0,product_name#1,price#2] parquet\n               +- Relation[order_id#12,product_id#13,seller_id#14,date#15,num_pieces_sold#16,bill_raw_text#17] parquet\n",
     "output_type": "error",
     "traceback": [
      "\u001b[0;31m---------------------------------------------------------------------------\u001b[0m",
      "\u001b[0;31mAnalysisException\u001b[0m                         Traceback (most recent call last)",
      "\u001b[0;32m<ipython-input-23-f99abefd340b>\u001b[0m in \u001b[0;36m<module>\u001b[0;34m\u001b[0m\n\u001b[0;32m----> 1\u001b[0;31m \u001b[0morder_count\u001b[0m \u001b[0;34m=\u001b[0m \u001b[0msum_total_revenue\u001b[0m\u001b[0;34m.\u001b[0m\u001b[0mgroupby\u001b[0m\u001b[0;34m(\u001b[0m\u001b[0;34m)\u001b[0m\u001b[0;34m.\u001b[0m\u001b[0magg\u001b[0m\u001b[0;34m(\u001b[0m\u001b[0mcount\u001b[0m\u001b[0;34m(\u001b[0m\u001b[0;34m'total_order'\u001b[0m\u001b[0;34m)\u001b[0m\u001b[0;34m)\u001b[0m\u001b[0;34m\u001b[0m\u001b[0;34m\u001b[0m\u001b[0m\n\u001b[0m",
      "\u001b[0;32m/usr/local/spark/python/pyspark/sql/group.py\u001b[0m in \u001b[0;36magg\u001b[0;34m(self, *exprs)\u001b[0m\n\u001b[1;32m    111\u001b[0m             \u001b[0;31m# Columns\u001b[0m\u001b[0;34m\u001b[0m\u001b[0;34m\u001b[0m\u001b[0;34m\u001b[0m\u001b[0m\n\u001b[1;32m    112\u001b[0m             \u001b[0;32massert\u001b[0m \u001b[0mall\u001b[0m\u001b[0;34m(\u001b[0m\u001b[0misinstance\u001b[0m\u001b[0;34m(\u001b[0m\u001b[0mc\u001b[0m\u001b[0;34m,\u001b[0m \u001b[0mColumn\u001b[0m\u001b[0;34m)\u001b[0m \u001b[0;32mfor\u001b[0m \u001b[0mc\u001b[0m \u001b[0;32min\u001b[0m \u001b[0mexprs\u001b[0m\u001b[0;34m)\u001b[0m\u001b[0;34m,\u001b[0m \u001b[0;34m\"all exprs should be Column\"\u001b[0m\u001b[0;34m\u001b[0m\u001b[0;34m\u001b[0m\u001b[0m\n\u001b[0;32m--> 113\u001b[0;31m             jdf = self._jgd.agg(exprs[0]._jc,\n\u001b[0m\u001b[1;32m    114\u001b[0m                                 _to_seq(self.sql_ctx._sc, [c._jc for c in exprs[1:]]))\n\u001b[1;32m    115\u001b[0m         \u001b[0;32mreturn\u001b[0m \u001b[0mDataFrame\u001b[0m\u001b[0;34m(\u001b[0m\u001b[0mjdf\u001b[0m\u001b[0;34m,\u001b[0m \u001b[0mself\u001b[0m\u001b[0;34m.\u001b[0m\u001b[0msql_ctx\u001b[0m\u001b[0;34m)\u001b[0m\u001b[0;34m\u001b[0m\u001b[0;34m\u001b[0m\u001b[0m\n",
      "\u001b[0;32m/usr/local/spark/python/lib/py4j-0.10.9-src.zip/py4j/java_gateway.py\u001b[0m in \u001b[0;36m__call__\u001b[0;34m(self, *args)\u001b[0m\n\u001b[1;32m   1302\u001b[0m \u001b[0;34m\u001b[0m\u001b[0m\n\u001b[1;32m   1303\u001b[0m         \u001b[0manswer\u001b[0m \u001b[0;34m=\u001b[0m \u001b[0mself\u001b[0m\u001b[0;34m.\u001b[0m\u001b[0mgateway_client\u001b[0m\u001b[0;34m.\u001b[0m\u001b[0msend_command\u001b[0m\u001b[0;34m(\u001b[0m\u001b[0mcommand\u001b[0m\u001b[0;34m)\u001b[0m\u001b[0;34m\u001b[0m\u001b[0;34m\u001b[0m\u001b[0m\n\u001b[0;32m-> 1304\u001b[0;31m         return_value = get_return_value(\n\u001b[0m\u001b[1;32m   1305\u001b[0m             answer, self.gateway_client, self.target_id, self.name)\n\u001b[1;32m   1306\u001b[0m \u001b[0;34m\u001b[0m\u001b[0m\n",
      "\u001b[0;32m/usr/local/spark/python/pyspark/sql/utils.py\u001b[0m in \u001b[0;36mdeco\u001b[0;34m(*a, **kw)\u001b[0m\n\u001b[1;32m    132\u001b[0m                 \u001b[0;31m# Hide where the exception came from that shows a non-Pythonic\u001b[0m\u001b[0;34m\u001b[0m\u001b[0;34m\u001b[0m\u001b[0;34m\u001b[0m\u001b[0m\n\u001b[1;32m    133\u001b[0m                 \u001b[0;31m# JVM exception message.\u001b[0m\u001b[0;34m\u001b[0m\u001b[0;34m\u001b[0m\u001b[0;34m\u001b[0m\u001b[0m\n\u001b[0;32m--> 134\u001b[0;31m                 \u001b[0mraise_from\u001b[0m\u001b[0;34m(\u001b[0m\u001b[0mconverted\u001b[0m\u001b[0;34m)\u001b[0m\u001b[0;34m\u001b[0m\u001b[0;34m\u001b[0m\u001b[0m\n\u001b[0m\u001b[1;32m    135\u001b[0m             \u001b[0;32melse\u001b[0m\u001b[0;34m:\u001b[0m\u001b[0;34m\u001b[0m\u001b[0;34m\u001b[0m\u001b[0m\n\u001b[1;32m    136\u001b[0m                 \u001b[0;32mraise\u001b[0m\u001b[0;34m\u001b[0m\u001b[0;34m\u001b[0m\u001b[0m\n",
      "\u001b[0;32m/usr/local/spark/python/pyspark/sql/utils.py\u001b[0m in \u001b[0;36mraise_from\u001b[0;34m(e)\u001b[0m\n",
      "\u001b[0;31mAnalysisException\u001b[0m: cannot resolve '`total_order`' given input columns: [sum(total_revenue)];;\n'Aggregate [count('total_order) AS count(total_order)#193]\n+- Aggregate [sum(total_revenue#183) AS sum(total_revenue)#189]\n   +- Aggregate [order_id#12], [order_id#12, sum(revenue_per_product#139) AS total_revenue#183]\n      +- Project [product_name#1, price#2, order_id#12, product_id#13, seller_id#14, date#15, num_pieces_sold#16, bill_raw_text#17, (cast(price#2 as double) * cast(num_pieces_sold#16 as double)) AS revenue_per_product#139]\n         +- Project [product_name#1, price#2, order_id#12, product_id#13, seller_id#14, date#15, num_pieces_sold#16, bill_raw_text#17]\n            +- Join Inner, (product_id#0 = product_id#13)\n               :- Relation[product_id#0,product_name#1,price#2] parquet\n               +- Relation[order_id#12,product_id#13,seller_id#14,date#15,num_pieces_sold#16,bill_raw_text#17] parquet\n"
     ]
    }
   ],
   "source": [
    "order_count = sum_total_revenue.groupby().agg(count('total_order'))"
   ]
  },
  {
   "cell_type": "code",
   "execution_count": null,
   "id": "fleet-kruger",
   "metadata": {},
   "outputs": [],
   "source": [
    "order_count.printSchema()\n",
    "# total_revenue.show()"
   ]
  },
  {
   "cell_type": "code",
   "execution_count": 21,
   "id": "absolute-cartridge",
   "metadata": {},
   "outputs": [
    {
     "ename": "NameError",
     "evalue": "name 'df_total_order' is not defined",
     "output_type": "error",
     "traceback": [
      "\u001b[0;31m---------------------------------------------------------------------------\u001b[0m",
      "\u001b[0;31mNameError\u001b[0m                                 Traceback (most recent call last)",
      "\u001b[0;32m<ipython-input-21-b0e90cb37414>\u001b[0m in \u001b[0;36m<module>\u001b[0;34m\u001b[0m\n\u001b[0;32m----> 1\u001b[0;31m \u001b[0mavg_revenue\u001b[0m \u001b[0;34m=\u001b[0m \u001b[0mdf_total_order\u001b[0m\u001b[0;34m.\u001b[0m\u001b[0mgroupBy\u001b[0m\u001b[0;34m(\u001b[0m\u001b[0;34m)\u001b[0m\u001b[0;34m.\u001b[0m\u001b[0mmean\u001b[0m\u001b[0;34m(\u001b[0m\u001b[0;34m'total_order'\u001b[0m\u001b[0;34m)\u001b[0m\u001b[0;34m\u001b[0m\u001b[0;34m\u001b[0m\u001b[0m\n\u001b[0m",
      "\u001b[0;31mNameError\u001b[0m: name 'df_total_order' is not defined"
     ]
    }
   ],
   "source": [
    "avg_revenue = df_total_order.groupBy().mean('total_order')"
   ]
  },
  {
   "cell_type": "code",
   "execution_count": 22,
   "id": "individual-engineer",
   "metadata": {},
   "outputs": [
    {
     "ename": "NameError",
     "evalue": "name 'avg_revenue' is not defined",
     "output_type": "error",
     "traceback": [
      "\u001b[0;31m---------------------------------------------------------------------------\u001b[0m",
      "\u001b[0;31mNameError\u001b[0m                                 Traceback (most recent call last)",
      "\u001b[0;32m<ipython-input-22-058b9ab8aab5>\u001b[0m in \u001b[0;36m<module>\u001b[0;34m\u001b[0m\n\u001b[0;32m----> 1\u001b[0;31m \u001b[0mavg_revenue\u001b[0m\u001b[0;34m.\u001b[0m\u001b[0mprintSchema\u001b[0m\u001b[0;34m(\u001b[0m\u001b[0;34m)\u001b[0m\u001b[0;34m\u001b[0m\u001b[0;34m\u001b[0m\u001b[0m\n\u001b[0m",
      "\u001b[0;31mNameError\u001b[0m: name 'avg_revenue' is not defined"
     ]
    }
   ],
   "source": [
    "avg_revenue.printSchema()"
   ]
  },
  {
   "cell_type": "markdown",
   "id": "sudden-syndrome",
   "metadata": {},
   "source": [
    "__Average revenue per order: $1246.13__"
   ]
  },
  {
   "cell_type": "markdown",
   "id": "fantastic-threat",
   "metadata": {},
   "source": [
    "## What is the average daily revenue of each product?"
   ]
  },
  {
   "cell_type": "code",
   "execution_count": null,
   "id": "portable-proof",
   "metadata": {},
   "outputs": [],
   "source": []
  },
  {
   "cell_type": "code",
   "execution_count": null,
   "id": "infinite-effect",
   "metadata": {},
   "outputs": [],
   "source": []
  }
 ],
 "metadata": {
  "kernelspec": {
   "display_name": "Python 3",
   "language": "python",
   "name": "python3"
  },
  "language_info": {
   "codemirror_mode": {
    "name": "ipython",
    "version": 3
   },
   "file_extension": ".py",
   "mimetype": "text/x-python",
   "name": "python",
   "nbconvert_exporter": "python",
   "pygments_lexer": "ipython3",
   "version": "3.8.8"
  }
 },
 "nbformat": 4,
 "nbformat_minor": 5
}
